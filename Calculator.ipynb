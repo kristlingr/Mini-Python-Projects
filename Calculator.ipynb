{
 "cells": [
  {
   "cell_type": "code",
   "id": "initial_id",
   "metadata": {
    "collapsed": true,
    "ExecuteTime": {
     "end_time": "2025-08-17T17:38:58.384166Z",
     "start_time": "2025-08-17T17:38:47.580845Z"
    }
   },
   "source": [
    "print(\"*****Calculator*****basis_series****\")\n",
    "# Build a simple command line calculator that performs basic arithmetic : addition, subtraction,multiplication and division\n",
    "\n",
    "\n",
    "\n",
    "aspects :\n",
    "# taking user input\n",
    "#writing functions\n",
    "# using if/else statements\n",
    "# handling edge cases (like division by zero)\n",
    "\n",
    "\n",
    "# taking user input\n",
    "number1 = int(input(\"Enter first number: \"))\n",
    "number2 = int(input(\"Enter second number: \"))\n",
    "\n",
    "operator = input(\"Enter operator (+,-,*,/,//): \")\n",
    "\n",
    "try:\n",
    "    if operator == \"+\":\n",
    "        result = number1 + number2\n",
    "        print(result)\n",
    "    elif operator == \"-\":\n",
    "        result = number1 - number2\n",
    "        print(result)\n",
    "    elif operator == \"*\":\n",
    "        result = number1 * number2\n",
    "        print(result)\n",
    "    elif operator == \"/\":\n",
    "        result = number1 / number2   # ZeroDivisionError handled by except\n",
    "        print(result)\n",
    "    elif operator == \"//\":\n",
    "        result = number1 // number2  # ZeroDivisionError handled by except\n",
    "        print(result)\n",
    "    else:\n",
    "        print(\"Invalid operator or check error\")\n",
    "\n",
    "except ZeroDivisionError:\n",
    "    print(\"Error: Division by zero is not allowed.\")\n",
    "except Exception as e:\n",
    "    print(\"Unexpected Error:\", type(e).__name__, e)\n",
    "\n"
   ],
   "outputs": [
    {
     "name": "stdout",
     "output_type": "stream",
     "text": [
      "15.8\n"
     ]
    }
   ],
   "execution_count": 23
  },
  {
   "metadata": {
    "ExecuteTime": {
     "end_time": "2025-08-17T18:19:29.893889Z",
     "start_time": "2025-08-17T18:19:19.640746Z"
    }
   },
   "cell_type": "code",
   "source": [
    "print(\"*****Calculator*****Advanced_series****\")\n",
    "\n",
    "'''aspects :\n",
    "# taking user input\n",
    "#writing functions\n",
    "# using if/else statements\n",
    "# handling edge cases (like division by zero)'''\n",
    "\n",
    "def addition(num1,num2):\n",
    "    return num1 + num2\n",
    "\n",
    "def subtraction(num1,num2):\n",
    "    return num1 - num2\n",
    "\n",
    "def multiplication(num1,num2):\n",
    "    return num1 * num2\n",
    "\n",
    "def division(num1,num2):\n",
    "    if num2 == 0:\n",
    "        raise \"Division by zero is not allowed.\"\n",
    "    return num1 / num2\n",
    "\n",
    "def floor_division(num1,num2):\n",
    "    if num2 == 0:\n",
    "        raise \"Division by zero is not allowed.\"\n",
    "    return num1 // num2\n",
    "\n",
    "# processing code\n",
    "try:\n",
    "\n",
    "    num1 = int(input(\"Enter first number: \"))\n",
    "    num2 = int(input(\"Enter second number: \"))\n",
    "    operator = input(\"Enter operator (+,-,*,/,//): \")\n",
    "    if operator == \"+\":\n",
    "        result = addition(num1,num2)\n",
    "        print(result)\n",
    "    elif operator == \"-\":\n",
    "        result = subtraction(num1,num2)\n",
    "        print(result)\n",
    "\n",
    "    elif operator == \"*\":\n",
    "        result = multiplication(num1,num2)\n",
    "        print(result)\n",
    "\n",
    "    elif operator == \"/\":\n",
    "        result = division(num1,num2)\n",
    "        print(result)\n",
    "    elif operator == \"//\":\n",
    "        result = floor_division(num1,num2)\n",
    "        print(result)\n",
    "    else:\n",
    "        print(\"Invalid operator or check error\")\n",
    "except ValueError:\n",
    "    print(\"Invalid input! Please enter numbers only.\")\n",
    "except ZeroDivisionError as e:\n",
    "    print(\"Error:\", e)\n",
    "except Exception as e:\n",
    "    print(\"Unexpected Error:\", type(e).__name__, \"-\", e)\n",
    "\n",
    "\n",
    "\n"
   ],
   "id": "39929dadecb34ffe",
   "outputs": [
    {
     "name": "stdout",
     "output_type": "stream",
     "text": [
      "26.0\n"
     ]
    }
   ],
   "execution_count": 28
  }
 ],
 "metadata": {
  "kernelspec": {
   "display_name": "Python 3",
   "language": "python",
   "name": "python3"
  },
  "language_info": {
   "codemirror_mode": {
    "name": "ipython",
    "version": 2
   },
   "file_extension": ".py",
   "mimetype": "text/x-python",
   "name": "python",
   "nbconvert_exporter": "python",
   "pygments_lexer": "ipython2",
   "version": "2.7.6"
  }
 },
 "nbformat": 4,
 "nbformat_minor": 5
}
